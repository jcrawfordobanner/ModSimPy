{
 "cells": [
  {
   "cell_type": "code",
   "execution_count": 61,
   "metadata": {
    "collapsed": true
   },
   "outputs": [],
   "source": [
    "%matplotlib inline\n",
    "\n",
    "from modsim import *\n",
    "import numpy as np"
   ]
  },
  {
   "cell_type": "code",
   "execution_count": 62,
   "metadata": {
    "collapsed": true
   },
   "outputs": [],
   "source": [
    "m = UNITS.meter\n",
    "s = UNITS.second\n",
    "kg = UNITS.kilogram\n",
    "N = UNITS.newton"
   ]
  },
  {
   "cell_type": "code",
   "execution_count": 63,
   "metadata": {
    "collapsed": true
   },
   "outputs": [],
   "source": [
    "condition = Condition(height = 381 * m,\n",
    "                      v_init = 0 * m / s,\n",
    "                      g = 9.8 * m/s**2,\n",
    "                      mass = 75 * kg,\n",
    "                      rho = 1.2 * kg/m**3,\n",
    "                      v_term = 60 * m / s,\n",
    "                      duration = 40 * s)"
   ]
  },
  {
   "cell_type": "code",
   "execution_count": 64,
   "metadata": {
    "collapsed": true
   },
   "outputs": [],
   "source": [
    "def final_state(results):\n",
    "    \"\"\"Returns the final position and velocity, with units.\n",
    "    \n",
    "    results: TimeFrame with y and v.\n",
    "    \n",
    "    returns: y, v at t_end\n",
    "    \"\"\"\n",
    "    t_end = results.index[-1]\n",
    "    y, v = results.loc[t_end]\n",
    "    return y*m, v*m/s"
   ]
  },
  {
   "cell_type": "code",
   "execution_count": 65,
   "metadata": {
    "collapsed": true
   },
   "outputs": [],
   "source": [
    "def make_system(condition, area):\n",
    "    \"\"\"Makes a System object for the given conditions.\n",
    "    \n",
    "    condition: Condition with height, g, mass, diameter, \n",
    "               rho, v_term, and duration\n",
    "    \n",
    "    returns: System with init, g, mass, rho, C_d, area, and ts\n",
    "    \"\"\"\n",
    "    unpack(condition)\n",
    "    \n",
    "    init = State(y=height, v=v_init)\n",
    "    C_d = 2 * mass * g / (rho * (area*m**2) * v_term**2)\n",
    "    ts = linspace(0, duration, 101)\n",
    "    \n",
    "    return System(init=init, g=g, mass=mass, rho=rho,\n",
    "                  C_d=C_d, area=area*m**2,\n",
    "                  y_attach=height, ts=ts)"
   ]
  },
  {
   "cell_type": "code",
   "execution_count": 66,
   "metadata": {
    "collapsed": true
   },
   "outputs": [],
   "source": [
    "def slope_func(state, t, system):\n",
    "    \"\"\"Compute derivatives of the state.\n",
    "    \n",
    "    state: position, velocity\n",
    "    t: time\n",
    "    system: System object containing g, rho,\n",
    "            C_d, area, and mass\n",
    "    \n",
    "    returns: derivatives of y and v\n",
    "    \"\"\"\n",
    "    y, v = state\n",
    "    unpack(system)\n",
    "    \n",
    "    f_drag = rho * v**2 * C_d * area / 2\n",
    "    a_drag = f_drag / mass\n",
    "    \n",
    "    dydt = v\n",
    "    dvdt = -g + a_drag\n",
    "    if a_drag <= g:\n",
    "        return dydt, dvdt"
   ]
  },
  {
   "cell_type": "code",
   "execution_count": 67,
   "metadata": {},
   "outputs": [],
   "source": [
    "def clusterfuck(areas):\n",
    "    mylist = []\n",
    "    for area in areas:\n",
    "        system= make_system(condition, area*m**2)\n",
    "        slope_func(system.init, 0, system)\n",
    "        run_odeint(system, slope_func)\n",
    "        T = interp_inverse(system.results.y,kind='cubic')\n",
    "        ground=T(0)\n",
    "        condition.set(duration=ground)\n",
    "        system = make_system(condition, area*m**2)\n",
    "        run_odeint(system, slope_func)\n",
    "        y_final, v_final = final_state(system.results)\n",
    "        mylist.append(v_final)\n",
    "    return mylist"
   ]
  },
  {
   "cell_type": "code",
   "execution_count": 76,
   "metadata": {
    "scrolled": true
   },
   "outputs": [
    {
     "ename": "TypeError",
     "evalue": "'numpy.float64' object is not iterable",
     "output_type": "error",
     "traceback": [
      "\u001b[1;31m---------------------------------------------------------------------------\u001b[0m",
      "\u001b[1;31mTypeError\u001b[0m                                 Traceback (most recent call last)",
      "\u001b[1;32m<ipython-input-76-2bbb457f1990>\u001b[0m in \u001b[0;36m<module>\u001b[1;34m()\u001b[0m\n\u001b[0;32m      1\u001b[0m \u001b[0mareas\u001b[0m \u001b[1;33m=\u001b[0m \u001b[0mlinspace\u001b[0m\u001b[1;33m(\u001b[0m\u001b[1;36m1\u001b[0m\u001b[1;33m,\u001b[0m\u001b[1;36m300\u001b[0m\u001b[1;33m,\u001b[0m\u001b[1;36m300\u001b[0m\u001b[1;33m,\u001b[0m \u001b[0mdtype\u001b[0m \u001b[1;33m=\u001b[0m \u001b[0mint\u001b[0m\u001b[1;33m)\u001b[0m\u001b[1;33m\u001b[0m\u001b[0m\n\u001b[1;32m----> 2\u001b[1;33m \u001b[0mpo\u001b[0m \u001b[1;33m=\u001b[0m\u001b[0mclusterfuck\u001b[0m\u001b[1;33m(\u001b[0m\u001b[0marea\u001b[0m\u001b[1;33m)\u001b[0m\u001b[1;33m\u001b[0m\u001b[0m\n\u001b[0m\u001b[0;32m      3\u001b[0m \u001b[0mmyarray\u001b[0m \u001b[1;33m=\u001b[0m \u001b[0mnp\u001b[0m\u001b[1;33m.\u001b[0m\u001b[0masarray\u001b[0m\u001b[1;33m(\u001b[0m\u001b[0mint\u001b[0m\u001b[1;33m(\u001b[0m\u001b[0mpo\u001b[0m\u001b[1;33m)\u001b[0m\u001b[1;33m)\u001b[0m\u001b[1;33m\u001b[0m\u001b[0m\n\u001b[0;32m      4\u001b[0m \u001b[0mplot\u001b[0m\u001b[1;33m(\u001b[0m\u001b[0mareas\u001b[0m\u001b[1;33m,\u001b[0m\u001b[0mmyarray\u001b[0m\u001b[1;33m)\u001b[0m\u001b[1;33m\u001b[0m\u001b[0m\n",
      "\u001b[1;32m<ipython-input-67-65f697b73b79>\u001b[0m in \u001b[0;36mclusterfuck\u001b[1;34m(areas)\u001b[0m\n\u001b[0;32m      1\u001b[0m \u001b[1;32mdef\u001b[0m \u001b[0mclusterfuck\u001b[0m\u001b[1;33m(\u001b[0m\u001b[0mareas\u001b[0m\u001b[1;33m)\u001b[0m\u001b[1;33m:\u001b[0m\u001b[1;33m\u001b[0m\u001b[0m\n\u001b[0;32m      2\u001b[0m     \u001b[0mmylist\u001b[0m \u001b[1;33m=\u001b[0m \u001b[1;33m[\u001b[0m\u001b[1;33m]\u001b[0m\u001b[1;33m\u001b[0m\u001b[0m\n\u001b[1;32m----> 3\u001b[1;33m     \u001b[1;32mfor\u001b[0m \u001b[0marea\u001b[0m \u001b[1;32min\u001b[0m \u001b[0mareas\u001b[0m\u001b[1;33m:\u001b[0m\u001b[1;33m\u001b[0m\u001b[0m\n\u001b[0m\u001b[0;32m      4\u001b[0m         \u001b[0msystem\u001b[0m\u001b[1;33m=\u001b[0m \u001b[0mmake_system\u001b[0m\u001b[1;33m(\u001b[0m\u001b[0mcondition\u001b[0m\u001b[1;33m,\u001b[0m \u001b[0marea\u001b[0m\u001b[1;33m*\u001b[0m\u001b[0mm\u001b[0m\u001b[1;33m**\u001b[0m\u001b[1;36m2\u001b[0m\u001b[1;33m)\u001b[0m\u001b[1;33m\u001b[0m\u001b[0m\n\u001b[0;32m      5\u001b[0m         \u001b[0mslope_func\u001b[0m\u001b[1;33m(\u001b[0m\u001b[0msystem\u001b[0m\u001b[1;33m.\u001b[0m\u001b[0minit\u001b[0m\u001b[1;33m,\u001b[0m \u001b[1;36m0\u001b[0m\u001b[1;33m,\u001b[0m \u001b[0msystem\u001b[0m\u001b[1;33m)\u001b[0m\u001b[1;33m\u001b[0m\u001b[0m\n",
      "\u001b[1;32mC:\\ProgramData\\Miniconda3\\lib\\site-packages\\pint\\quantity.py\u001b[0m in \u001b[0;36m__iter__\u001b[1;34m(self)\u001b[0m\n\u001b[0;32m   1083\u001b[0m     \u001b[1;32mdef\u001b[0m \u001b[0m__iter__\u001b[0m\u001b[1;33m(\u001b[0m\u001b[0mself\u001b[0m\u001b[1;33m)\u001b[0m\u001b[1;33m:\u001b[0m\u001b[1;33m\u001b[0m\u001b[0m\n\u001b[0;32m   1084\u001b[0m         \u001b[1;31m# Allow exception to propagate in case of non-iterable magnitude\u001b[0m\u001b[1;33m\u001b[0m\u001b[1;33m\u001b[0m\u001b[0m\n\u001b[1;32m-> 1085\u001b[1;33m         \u001b[0mit_mag\u001b[0m \u001b[1;33m=\u001b[0m \u001b[0miter\u001b[0m\u001b[1;33m(\u001b[0m\u001b[0mself\u001b[0m\u001b[1;33m.\u001b[0m\u001b[0mmagnitude\u001b[0m\u001b[1;33m)\u001b[0m\u001b[1;33m\u001b[0m\u001b[0m\n\u001b[0m\u001b[0;32m   1086\u001b[0m         \u001b[1;32mreturn\u001b[0m \u001b[0miter\u001b[0m\u001b[1;33m(\u001b[0m\u001b[1;33m(\u001b[0m\u001b[0mself\u001b[0m\u001b[1;33m.\u001b[0m\u001b[0m__class__\u001b[0m\u001b[1;33m(\u001b[0m\u001b[0mmag\u001b[0m\u001b[1;33m,\u001b[0m \u001b[0mself\u001b[0m\u001b[1;33m.\u001b[0m\u001b[0m_units\u001b[0m\u001b[1;33m)\u001b[0m \u001b[1;32mfor\u001b[0m \u001b[0mmag\u001b[0m \u001b[1;32min\u001b[0m \u001b[0mit_mag\u001b[0m\u001b[1;33m)\u001b[0m\u001b[1;33m)\u001b[0m\u001b[1;33m\u001b[0m\u001b[0m\n\u001b[0;32m   1087\u001b[0m \u001b[1;33m\u001b[0m\u001b[0m\n",
      "\u001b[1;31mTypeError\u001b[0m: 'numpy.float64' object is not iterable"
     ]
    }
   ],
   "source": [
    "areas = linspace(1,300,300, dtype = int)\n",
    "po =clusterfuck(area)\n",
    "myarray = np.asarray(int(po))\n",
    "plot(areas,myarray)"
   ]
  },
  {
   "cell_type": "code",
   "execution_count": null,
   "metadata": {
    "collapsed": true
   },
   "outputs": [],
   "source": []
  },
  {
   "cell_type": "code",
   "execution_count": null,
   "metadata": {
    "collapsed": true
   },
   "outputs": [],
   "source": []
  },
  {
   "cell_type": "code",
   "execution_count": 87,
   "metadata": {},
   "outputs": [
    {
     "data": {
      "text/plain": [
       "(<Quantity(0.0, 'meter / second')>, <Quantity(-9.8, 'meter / second ** 2')>)"
      ]
     },
     "execution_count": 87,
     "metadata": {},
     "output_type": "execute_result"
    }
   ],
   "source": [
    "slope_func(system.init, 0, system)"
   ]
  },
  {
   "cell_type": "code",
   "execution_count": 88,
   "metadata": {
    "collapsed": true
   },
   "outputs": [],
   "source": [
    "run_odeint(system, slope_func)"
   ]
  },
  {
   "cell_type": "code",
   "execution_count": 89,
   "metadata": {},
   "outputs": [
    {
     "data": {
      "text/html": [
       "<div>\n",
       "<style>\n",
       "    .dataframe thead tr:only-child th {\n",
       "        text-align: right;\n",
       "    }\n",
       "\n",
       "    .dataframe thead th {\n",
       "        text-align: left;\n",
       "    }\n",
       "\n",
       "    .dataframe tbody tr th {\n",
       "        vertical-align: top;\n",
       "    }\n",
       "</style>\n",
       "<table border=\"1\" class=\"dataframe\">\n",
       "  <thead>\n",
       "    <tr style=\"text-align: right;\">\n",
       "      <th></th>\n",
       "      <th>y</th>\n",
       "      <th>v</th>\n",
       "    </tr>\n",
       "  </thead>\n",
       "  <tbody>\n",
       "    <tr>\n",
       "      <th>0.0</th>\n",
       "      <td>381.000000</td>\n",
       "      <td>0.000000</td>\n",
       "    </tr>\n",
       "    <tr>\n",
       "      <th>0.4</th>\n",
       "      <td>380.216561</td>\n",
       "      <td>-3.914432</td>\n",
       "    </tr>\n",
       "    <tr>\n",
       "      <th>0.8</th>\n",
       "      <td>377.872889</td>\n",
       "      <td>-7.795684</td>\n",
       "    </tr>\n",
       "    <tr>\n",
       "      <th>1.2</th>\n",
       "      <td>373.988725</td>\n",
       "      <td>-11.611688</td>\n",
       "    </tr>\n",
       "    <tr>\n",
       "      <th>1.6</th>\n",
       "      <td>368.596240</td>\n",
       "      <td>-15.332534</td>\n",
       "    </tr>\n",
       "    <tr>\n",
       "      <th>2.0</th>\n",
       "      <td>361.738985</td>\n",
       "      <td>-18.931348</td>\n",
       "    </tr>\n",
       "    <tr>\n",
       "      <th>2.4</th>\n",
       "      <td>353.470537</td>\n",
       "      <td>-22.384988</td>\n",
       "    </tr>\n",
       "    <tr>\n",
       "      <th>2.8</th>\n",
       "      <td>343.852899</td>\n",
       "      <td>-25.674499</td>\n",
       "    </tr>\n",
       "    <tr>\n",
       "      <th>3.2</th>\n",
       "      <td>332.954781</td>\n",
       "      <td>-28.785332</td>\n",
       "    </tr>\n",
       "    <tr>\n",
       "      <th>3.6</th>\n",
       "      <td>320.849829</td>\n",
       "      <td>-31.707340</td>\n",
       "    </tr>\n",
       "    <tr>\n",
       "      <th>4.0</th>\n",
       "      <td>307.614896</td>\n",
       "      <td>-34.434580</td>\n",
       "    </tr>\n",
       "    <tr>\n",
       "      <th>4.4</th>\n",
       "      <td>293.328428</td>\n",
       "      <td>-36.964964</td>\n",
       "    </tr>\n",
       "    <tr>\n",
       "      <th>4.8</th>\n",
       "      <td>278.069011</td>\n",
       "      <td>-39.299797</td>\n",
       "    </tr>\n",
       "    <tr>\n",
       "      <th>5.2</th>\n",
       "      <td>261.914116</td>\n",
       "      <td>-41.443262</td>\n",
       "    </tr>\n",
       "    <tr>\n",
       "      <th>5.6</th>\n",
       "      <td>244.939055</td>\n",
       "      <td>-43.401875</td>\n",
       "    </tr>\n",
       "    <tr>\n",
       "      <th>6.0</th>\n",
       "      <td>227.216159</td>\n",
       "      <td>-45.183954</td>\n",
       "    </tr>\n",
       "    <tr>\n",
       "      <th>6.4</th>\n",
       "      <td>208.814150</td>\n",
       "      <td>-46.799125</td>\n",
       "    </tr>\n",
       "    <tr>\n",
       "      <th>6.8</th>\n",
       "      <td>189.797717</td>\n",
       "      <td>-48.257875</td>\n",
       "    </tr>\n",
       "    <tr>\n",
       "      <th>7.2</th>\n",
       "      <td>170.227245</td>\n",
       "      <td>-49.571167</td>\n",
       "    </tr>\n",
       "    <tr>\n",
       "      <th>7.6</th>\n",
       "      <td>150.158694</td>\n",
       "      <td>-50.750126</td>\n",
       "    </tr>\n",
       "    <tr>\n",
       "      <th>8.0</th>\n",
       "      <td>129.643585</td>\n",
       "      <td>-51.805773</td>\n",
       "    </tr>\n",
       "    <tr>\n",
       "      <th>8.4</th>\n",
       "      <td>108.729086</td>\n",
       "      <td>-52.748831</td>\n",
       "    </tr>\n",
       "    <tr>\n",
       "      <th>8.8</th>\n",
       "      <td>87.458159</td>\n",
       "      <td>-53.589578</td>\n",
       "    </tr>\n",
       "    <tr>\n",
       "      <th>9.2</th>\n",
       "      <td>65.869766</td>\n",
       "      <td>-54.337738</td>\n",
       "    </tr>\n",
       "    <tr>\n",
       "      <th>9.6</th>\n",
       "      <td>43.999096</td>\n",
       "      <td>-55.002423</td>\n",
       "    </tr>\n",
       "    <tr>\n",
       "      <th>10.0</th>\n",
       "      <td>21.877827</td>\n",
       "      <td>-55.592089</td>\n",
       "    </tr>\n",
       "    <tr>\n",
       "      <th>10.4</th>\n",
       "      <td>-0.465614</td>\n",
       "      <td>-56.114531</td>\n",
       "    </tr>\n",
       "    <tr>\n",
       "      <th>10.8</th>\n",
       "      <td>-23.005788</td>\n",
       "      <td>-56.576885</td>\n",
       "    </tr>\n",
       "    <tr>\n",
       "      <th>11.2</th>\n",
       "      <td>-45.719979</td>\n",
       "      <td>-56.985649</td>\n",
       "    </tr>\n",
       "    <tr>\n",
       "      <th>11.6</th>\n",
       "      <td>-68.587950</td>\n",
       "      <td>-57.346712</td>\n",
       "    </tr>\n",
       "    <tr>\n",
       "      <th>...</th>\n",
       "      <td>...</td>\n",
       "      <td>...</td>\n",
       "    </tr>\n",
       "    <tr>\n",
       "      <th>28.4</th>\n",
       "      <td>-1068.408850</td>\n",
       "      <td>-59.988779</td>\n",
       "    </tr>\n",
       "    <tr>\n",
       "      <th>28.8</th>\n",
       "      <td>-1092.404643</td>\n",
       "      <td>-59.990153</td>\n",
       "    </tr>\n",
       "    <tr>\n",
       "      <th>29.2</th>\n",
       "      <td>-1116.400950</td>\n",
       "      <td>-59.991359</td>\n",
       "    </tr>\n",
       "    <tr>\n",
       "      <th>29.6</th>\n",
       "      <td>-1140.397710</td>\n",
       "      <td>-59.992417</td>\n",
       "    </tr>\n",
       "    <tr>\n",
       "      <th>30.0</th>\n",
       "      <td>-1164.394867</td>\n",
       "      <td>-59.993346</td>\n",
       "    </tr>\n",
       "    <tr>\n",
       "      <th>30.4</th>\n",
       "      <td>-1188.392372</td>\n",
       "      <td>-59.994161</td>\n",
       "    </tr>\n",
       "    <tr>\n",
       "      <th>30.8</th>\n",
       "      <td>-1212.390182</td>\n",
       "      <td>-59.994876</td>\n",
       "    </tr>\n",
       "    <tr>\n",
       "      <th>31.2</th>\n",
       "      <td>-1236.388261</td>\n",
       "      <td>-59.995504</td>\n",
       "    </tr>\n",
       "    <tr>\n",
       "      <th>31.6</th>\n",
       "      <td>-1260.386576</td>\n",
       "      <td>-59.996055</td>\n",
       "    </tr>\n",
       "    <tr>\n",
       "      <th>32.0</th>\n",
       "      <td>-1284.385096</td>\n",
       "      <td>-59.996538</td>\n",
       "    </tr>\n",
       "    <tr>\n",
       "      <th>32.4</th>\n",
       "      <td>-1308.383798</td>\n",
       "      <td>-59.996962</td>\n",
       "    </tr>\n",
       "    <tr>\n",
       "      <th>32.8</th>\n",
       "      <td>-1332.382659</td>\n",
       "      <td>-59.997334</td>\n",
       "    </tr>\n",
       "    <tr>\n",
       "      <th>33.2</th>\n",
       "      <td>-1356.381659</td>\n",
       "      <td>-59.997661</td>\n",
       "    </tr>\n",
       "    <tr>\n",
       "      <th>33.6</th>\n",
       "      <td>-1380.380782</td>\n",
       "      <td>-59.997947</td>\n",
       "    </tr>\n",
       "    <tr>\n",
       "      <th>34.0</th>\n",
       "      <td>-1404.380012</td>\n",
       "      <td>-59.998199</td>\n",
       "    </tr>\n",
       "    <tr>\n",
       "      <th>34.4</th>\n",
       "      <td>-1428.379337</td>\n",
       "      <td>-59.998419</td>\n",
       "    </tr>\n",
       "    <tr>\n",
       "      <th>34.8</th>\n",
       "      <td>-1452.378744</td>\n",
       "      <td>-59.998613</td>\n",
       "    </tr>\n",
       "    <tr>\n",
       "      <th>35.2</th>\n",
       "      <td>-1476.378224</td>\n",
       "      <td>-59.998783</td>\n",
       "    </tr>\n",
       "    <tr>\n",
       "      <th>35.6</th>\n",
       "      <td>-1500.377768</td>\n",
       "      <td>-59.998932</td>\n",
       "    </tr>\n",
       "    <tr>\n",
       "      <th>36.0</th>\n",
       "      <td>-1524.377367</td>\n",
       "      <td>-59.999063</td>\n",
       "    </tr>\n",
       "    <tr>\n",
       "      <th>36.4</th>\n",
       "      <td>-1548.377016</td>\n",
       "      <td>-59.999177</td>\n",
       "    </tr>\n",
       "    <tr>\n",
       "      <th>36.8</th>\n",
       "      <td>-1572.376707</td>\n",
       "      <td>-59.999278</td>\n",
       "    </tr>\n",
       "    <tr>\n",
       "      <th>37.2</th>\n",
       "      <td>-1596.376436</td>\n",
       "      <td>-59.999367</td>\n",
       "    </tr>\n",
       "    <tr>\n",
       "      <th>37.6</th>\n",
       "      <td>-1620.376199</td>\n",
       "      <td>-59.999444</td>\n",
       "    </tr>\n",
       "    <tr>\n",
       "      <th>38.0</th>\n",
       "      <td>-1644.375991</td>\n",
       "      <td>-59.999512</td>\n",
       "    </tr>\n",
       "    <tr>\n",
       "      <th>38.4</th>\n",
       "      <td>-1668.375808</td>\n",
       "      <td>-59.999572</td>\n",
       "    </tr>\n",
       "    <tr>\n",
       "      <th>38.8</th>\n",
       "      <td>-1692.375647</td>\n",
       "      <td>-59.999624</td>\n",
       "    </tr>\n",
       "    <tr>\n",
       "      <th>39.2</th>\n",
       "      <td>-1716.375506</td>\n",
       "      <td>-59.999670</td>\n",
       "    </tr>\n",
       "    <tr>\n",
       "      <th>39.6</th>\n",
       "      <td>-1740.375383</td>\n",
       "      <td>-59.999711</td>\n",
       "    </tr>\n",
       "    <tr>\n",
       "      <th>40.0</th>\n",
       "      <td>-1764.375274</td>\n",
       "      <td>-59.999746</td>\n",
       "    </tr>\n",
       "  </tbody>\n",
       "</table>\n",
       "<p>101 rows × 2 columns</p>\n",
       "</div>"
      ],
      "text/plain": [
       "                y          v\n",
       "0.0    381.000000   0.000000\n",
       "0.4    380.216561  -3.914432\n",
       "0.8    377.872889  -7.795684\n",
       "1.2    373.988725 -11.611688\n",
       "1.6    368.596240 -15.332534\n",
       "2.0    361.738985 -18.931348\n",
       "2.4    353.470537 -22.384988\n",
       "2.8    343.852899 -25.674499\n",
       "3.2    332.954781 -28.785332\n",
       "3.6    320.849829 -31.707340\n",
       "4.0    307.614896 -34.434580\n",
       "4.4    293.328428 -36.964964\n",
       "4.8    278.069011 -39.299797\n",
       "5.2    261.914116 -41.443262\n",
       "5.6    244.939055 -43.401875\n",
       "6.0    227.216159 -45.183954\n",
       "6.4    208.814150 -46.799125\n",
       "6.8    189.797717 -48.257875\n",
       "7.2    170.227245 -49.571167\n",
       "7.6    150.158694 -50.750126\n",
       "8.0    129.643585 -51.805773\n",
       "8.4    108.729086 -52.748831\n",
       "8.8     87.458159 -53.589578\n",
       "9.2     65.869766 -54.337738\n",
       "9.6     43.999096 -55.002423\n",
       "10.0    21.877827 -55.592089\n",
       "10.4    -0.465614 -56.114531\n",
       "10.8   -23.005788 -56.576885\n",
       "11.2   -45.719979 -56.985649\n",
       "11.6   -68.587950 -57.346712\n",
       "...           ...        ...\n",
       "28.4 -1068.408850 -59.988779\n",
       "28.8 -1092.404643 -59.990153\n",
       "29.2 -1116.400950 -59.991359\n",
       "29.6 -1140.397710 -59.992417\n",
       "30.0 -1164.394867 -59.993346\n",
       "30.4 -1188.392372 -59.994161\n",
       "30.8 -1212.390182 -59.994876\n",
       "31.2 -1236.388261 -59.995504\n",
       "31.6 -1260.386576 -59.996055\n",
       "32.0 -1284.385096 -59.996538\n",
       "32.4 -1308.383798 -59.996962\n",
       "32.8 -1332.382659 -59.997334\n",
       "33.2 -1356.381659 -59.997661\n",
       "33.6 -1380.380782 -59.997947\n",
       "34.0 -1404.380012 -59.998199\n",
       "34.4 -1428.379337 -59.998419\n",
       "34.8 -1452.378744 -59.998613\n",
       "35.2 -1476.378224 -59.998783\n",
       "35.6 -1500.377768 -59.998932\n",
       "36.0 -1524.377367 -59.999063\n",
       "36.4 -1548.377016 -59.999177\n",
       "36.8 -1572.376707 -59.999278\n",
       "37.2 -1596.376436 -59.999367\n",
       "37.6 -1620.376199 -59.999444\n",
       "38.0 -1644.375991 -59.999512\n",
       "38.4 -1668.375808 -59.999572\n",
       "38.8 -1692.375647 -59.999624\n",
       "39.2 -1716.375506 -59.999670\n",
       "39.6 -1740.375383 -59.999711\n",
       "40.0 -1764.375274 -59.999746\n",
       "\n",
       "[101 rows x 2 columns]"
      ]
     },
     "execution_count": 89,
     "metadata": {},
     "output_type": "execute_result"
    }
   ],
   "source": [
    "system.results"
   ]
  },
  {
   "cell_type": "code",
   "execution_count": null,
   "metadata": {
    "collapsed": true
   },
   "outputs": [],
   "source": []
  },
  {
   "cell_type": "code",
   "execution_count": null,
   "metadata": {
    "collapsed": true
   },
   "outputs": [],
   "source": []
  },
  {
   "cell_type": "code",
   "execution_count": null,
   "metadata": {
    "collapsed": true
   },
   "outputs": [],
   "source": []
  },
  {
   "cell_type": "code",
   "execution_count": null,
   "metadata": {
    "collapsed": true
   },
   "outputs": [],
   "source": []
  },
  {
   "cell_type": "code",
   "execution_count": null,
   "metadata": {
    "collapsed": true
   },
   "outputs": [],
   "source": []
  },
  {
   "cell_type": "code",
   "execution_count": null,
   "metadata": {
    "collapsed": true
   },
   "outputs": [],
   "source": []
  },
  {
   "cell_type": "code",
   "execution_count": null,
   "metadata": {
    "collapsed": true
   },
   "outputs": [],
   "source": []
  },
  {
   "cell_type": "code",
   "execution_count": null,
   "metadata": {
    "collapsed": true
   },
   "outputs": [],
   "source": []
  },
  {
   "cell_type": "code",
   "execution_count": null,
   "metadata": {
    "collapsed": true
   },
   "outputs": [],
   "source": []
  },
  {
   "cell_type": "code",
   "execution_count": null,
   "metadata": {
    "collapsed": true
   },
   "outputs": [],
   "source": []
  },
  {
   "cell_type": "code",
   "execution_count": null,
   "metadata": {
    "collapsed": true
   },
   "outputs": [],
   "source": []
  },
  {
   "cell_type": "code",
   "execution_count": null,
   "metadata": {
    "collapsed": true
   },
   "outputs": [],
   "source": []
  },
  {
   "cell_type": "code",
   "execution_count": null,
   "metadata": {
    "collapsed": true
   },
   "outputs": [],
   "source": []
  },
  {
   "cell_type": "code",
   "execution_count": null,
   "metadata": {
    "collapsed": true
   },
   "outputs": [],
   "source": []
  },
  {
   "cell_type": "code",
   "execution_count": null,
   "metadata": {
    "collapsed": true
   },
   "outputs": [],
   "source": []
  },
  {
   "cell_type": "code",
   "execution_count": null,
   "metadata": {
    "collapsed": true
   },
   "outputs": [],
   "source": []
  },
  {
   "cell_type": "code",
   "execution_count": null,
   "metadata": {
    "collapsed": true
   },
   "outputs": [],
   "source": []
  },
  {
   "cell_type": "code",
   "execution_count": null,
   "metadata": {
    "collapsed": true
   },
   "outputs": [],
   "source": []
  },
  {
   "cell_type": "code",
   "execution_count": null,
   "metadata": {
    "collapsed": true
   },
   "outputs": [],
   "source": []
  },
  {
   "cell_type": "code",
   "execution_count": null,
   "metadata": {
    "collapsed": true
   },
   "outputs": [],
   "source": []
  },
  {
   "cell_type": "code",
   "execution_count": null,
   "metadata": {
    "collapsed": true
   },
   "outputs": [],
   "source": []
  },
  {
   "cell_type": "code",
   "execution_count": null,
   "metadata": {
    "collapsed": true
   },
   "outputs": [],
   "source": []
  },
  {
   "cell_type": "code",
   "execution_count": null,
   "metadata": {
    "collapsed": true
   },
   "outputs": [],
   "source": []
  },
  {
   "cell_type": "code",
   "execution_count": null,
   "metadata": {
    "collapsed": true
   },
   "outputs": [],
   "source": []
  },
  {
   "cell_type": "code",
   "execution_count": null,
   "metadata": {
    "collapsed": true
   },
   "outputs": [],
   "source": []
  }
 ],
 "metadata": {
  "kernelspec": {
   "display_name": "Python 3",
   "language": "python",
   "name": "python3"
  },
  "language_info": {
   "codemirror_mode": {
    "name": "ipython",
    "version": 3
   },
   "file_extension": ".py",
   "mimetype": "text/x-python",
   "name": "python",
   "nbconvert_exporter": "python",
   "pygments_lexer": "ipython3",
   "version": "3.6.1"
  }
 },
 "nbformat": 4,
 "nbformat_minor": 2
}
